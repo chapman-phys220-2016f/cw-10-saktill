{
 "cells": [
  {
   "cell_type": "code",
   "execution_count": 3,
   "metadata": {
    "collapsed": false
   },
   "outputs": [],
   "source": [
    "import walk2Dv as wlk\n",
    "import numpy as np\n",
    "import matplotlib.pyplot as plt\n",
    "import flip_coin_vec as fcv"
   ]
  },
  {
   "cell_type": "markdown",
   "metadata": {
    "collapsed": false
   },
   "source": [
    "# Classwork 10\n",
    "## Sakthi and Will\n",
    "### Problem 1. \n",
    "Simulate a coin flip N times, and write out the number of tails. All code should be vectorized. \n",
    "\n",
    "The code for this one was very short and fairly straightforward. Here are the results of ten flips, carried out ten times."
   ]
  },
  {
   "cell_type": "code",
   "execution_count": 5,
   "metadata": {
    "collapsed": false
   },
   "outputs": [
    {
     "name": "stdout",
     "output_type": "stream",
     "text": [
      "5\n",
      "6\n",
      "6\n",
      "4\n",
      "5\n",
      "7\n",
      "7\n",
      "7\n",
      "5\n",
      "3\n"
     ]
    }
   ],
   "source": [
    "for i in range(0,10):\n",
    "    print(fcv.flipCoin(10))"
   ]
  },
  {
   "cell_type": "markdown",
   "metadata": {},
   "source": [
    "### Problems 2 and 3. \n",
    "Simulate the random walk problem in 2 dimensions, using vectorized code where possible. Then create a Gif of the random walk for 1000 particles taking 400 steps. \n",
    "\n",
    "The code I implemented was a cleaned-up version of the code in the book. I also went a little nuts with ImageMagick and subsequently FFMpeg. Without further ado, here is a gif of 1000 particles taking 400 steps each:"
   ]
  },
  {
   "cell_type": "markdown",
   "metadata": {},
   "source": [
    "![There should be a gif](walk.gif \"Random Walk in 2D\")"
   ]
  }
 ],
 "metadata": {
  "anaconda-cloud": {},
  "kernelspec": {
   "display_name": "Python [default]",
   "language": "python",
   "name": "python3"
  },
  "language_info": {
   "codemirror_mode": {
    "name": "ipython",
    "version": 3
   },
   "file_extension": ".py",
   "mimetype": "text/x-python",
   "name": "python",
   "nbconvert_exporter": "python",
   "pygments_lexer": "ipython3",
   "version": "3.5.2"
  }
 },
 "nbformat": 4,
 "nbformat_minor": 1
}
